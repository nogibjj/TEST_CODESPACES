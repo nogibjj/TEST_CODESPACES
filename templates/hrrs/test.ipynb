{
 "cells": [
  {
   "cell_type": "code",
   "execution_count": 9,
   "metadata": {},
   "outputs": [],
   "source": [
    "\n",
    "def find_patient(patient_id, db_patient=db_patient):\n",
    "    p_found = None    \n",
    "    for patient in db_patient:\n",
    "        if patient[\"patient_id\"] == patient_id:\n",
    "            p_found = patient\n",
    "            break\n",
    "    if p_found is None:\n",
    "        return (\"Patient ID not found\", 400)"
   ]
  },
  {
   "cell_type": "code",
   "execution_count": 1,
   "metadata": {},
   "outputs": [],
   "source": [
    "db_patient = [\n",
    "    {\n",
    "        \"patient_id\": 1,\n",
    "        \"attending_email\": \"rocio@duke.edu\",\n",
    "        \"user_age\": 25,\n",
    "        \"heart_rate\": [100, 120, 140],\n",
    "        \"timestamp\": [\"2018-03-09 11:00:36\"]\n",
    "    },\n",
    "    {\n",
    "        \"patient_id\": 2,\n",
    "        \"attending_email\": \"echo\",\n",
    "        \"user_age\": 30,\n",
    "        \"heart_rate\": [100, 120, 140],\n",
    "        \"timestamp\": [\"2018-03-09 11:00:36\"]\n",
    "    }\n",
    "]"
   ]
  },
  {
   "cell_type": "code",
   "execution_count": 4,
   "metadata": {},
   "outputs": [],
   "source": [
    "find_patient(1, db_patient)"
   ]
  },
  {
   "cell_type": "code",
   "execution_count": 5,
   "metadata": {},
   "outputs": [],
   "source": [
    "find_patient(2, db_patient)"
   ]
  },
  {
   "cell_type": "code",
   "execution_count": 10,
   "metadata": {},
   "outputs": [
    {
     "data": {
      "text/plain": [
       "('Patient ID not found', 400)"
      ]
     },
     "execution_count": 10,
     "metadata": {},
     "output_type": "execute_result"
    }
   ],
   "source": [
    "find_patient(3,db_patient)"
   ]
  },
  {
   "cell_type": "code",
   "execution_count": null,
   "metadata": {},
   "outputs": [],
   "source": []
  }
 ],
 "metadata": {
  "kernelspec": {
   "display_name": "Python 3.10.4 64-bit",
   "language": "python",
   "name": "python3"
  },
  "language_info": {
   "codemirror_mode": {
    "name": "ipython",
    "version": 3
   },
   "file_extension": ".py",
   "mimetype": "text/x-python",
   "name": "python",
   "nbconvert_exporter": "python",
   "pygments_lexer": "ipython3",
   "version": "3.10.4"
  },
  "orig_nbformat": 4,
  "vscode": {
   "interpreter": {
    "hash": "4f946df053fbf2b937619d3c5458e7af74262f9a954d8797ba0b27400bcafe06"
   }
  }
 },
 "nbformat": 4,
 "nbformat_minor": 2
}
