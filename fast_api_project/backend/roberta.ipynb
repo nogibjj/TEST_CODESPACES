{
 "cells": [
  {
   "cell_type": "code",
   "execution_count": 5,
   "metadata": {},
   "outputs": [
    {
     "name": "stdout",
     "output_type": "stream",
     "text": [
      "/opt/python/latest/bin/pip\n"
     ]
    }
   ],
   "source": [
    "!which pip"
   ]
  },
  {
   "cell_type": "code",
   "execution_count": 5,
   "metadata": {},
   "outputs": [
    {
     "name": "stdout",
     "output_type": "stream",
     "text": [
      "Collecting transformers\n",
      "  Using cached transformers-4.22.1-py3-none-any.whl (4.9 MB)\n",
      "Requirement already satisfied: numpy>=1.17 in /opt/python/3.10.4/lib/python3.10/site-packages (from transformers) (1.23.2)\n",
      "Collecting tqdm>=4.27\n",
      "  Using cached tqdm-4.64.1-py2.py3-none-any.whl (78 kB)\n",
      "Requirement already satisfied: pyyaml>=5.1 in /opt/python/3.10.4/lib/python3.10/site-packages (from transformers) (6.0)\n",
      "Collecting regex!=2019.12.17\n",
      "  Using cached regex-2022.9.13-cp310-cp310-manylinux_2_17_x86_64.manylinux2014_x86_64.whl (770 kB)\n",
      "Requirement already satisfied: packaging>=20.0 in /opt/python/3.10.4/lib/python3.10/site-packages (from transformers) (21.3)\n",
      "Collecting tokenizers!=0.11.3,<0.13,>=0.11.1\n",
      "  Using cached tokenizers-0.12.1-cp310-cp310-manylinux_2_12_x86_64.manylinux2010_x86_64.whl (6.6 MB)\n",
      "Collecting filelock\n",
      "  Using cached filelock-3.8.0-py3-none-any.whl (10 kB)\n",
      "Requirement already satisfied: requests in /opt/python/3.10.4/lib/python3.10/site-packages (from transformers) (2.28.1)\n",
      "Collecting huggingface-hub<1.0,>=0.9.0\n",
      "  Using cached huggingface_hub-0.9.1-py3-none-any.whl (120 kB)\n",
      "Requirement already satisfied: typing-extensions>=3.7.4.3 in /opt/python/3.10.4/lib/python3.10/site-packages (from huggingface-hub<1.0,>=0.9.0->transformers) (4.3.0)\n",
      "Requirement already satisfied: pyparsing!=3.0.5,>=2.0.2 in /opt/python/3.10.4/lib/python3.10/site-packages (from packaging>=20.0->transformers) (3.0.9)\n",
      "Requirement already satisfied: idna<4,>=2.5 in /opt/python/3.10.4/lib/python3.10/site-packages (from requests->transformers) (3.3)\n",
      "Requirement already satisfied: certifi>=2017.4.17 in /opt/python/3.10.4/lib/python3.10/site-packages (from requests->transformers) (2022.6.15)\n",
      "Requirement already satisfied: urllib3<1.27,>=1.21.1 in /opt/python/3.10.4/lib/python3.10/site-packages (from requests->transformers) (1.26.12)\n",
      "Requirement already satisfied: charset-normalizer<3,>=2 in /opt/python/3.10.4/lib/python3.10/site-packages (from requests->transformers) (2.1.1)\n",
      "Installing collected packages: tokenizers, tqdm, regex, filelock, huggingface-hub, transformers\n",
      "Successfully installed filelock-3.8.0 huggingface-hub-0.9.1 regex-2022.9.13 tokenizers-0.12.1 tqdm-4.64.1 transformers-4.22.1\n",
      "Note: you may need to restart the kernel to use updated packages.\n"
     ]
    }
   ],
   "source": [
    "pip install transformers"
   ]
  },
  {
   "cell_type": "code",
   "execution_count": 6,
   "metadata": {},
   "outputs": [
    {
     "name": "stdout",
     "output_type": "stream",
     "text": [
      "Package                      Version\n",
      "---------------------------- -----------\n",
      "absl-py                      1.2.0\n",
      "anyio                        3.6.1\n",
      "argon2-cffi                  21.3.0\n",
      "argon2-cffi-bindings         21.2.0\n",
      "asttokens                    2.0.8\n",
      "astunparse                   1.6.3\n",
      "attrs                        22.1.0\n",
      "Babel                        2.10.3\n",
      "backcall                     0.2.0\n",
      "beautifulsoup4               4.11.1\n",
      "bleach                       5.0.1\n",
      "cachetools                   5.2.0\n",
      "certifi                      2022.6.15\n",
      "cffi                         1.15.1\n",
      "charset-normalizer           2.1.1\n",
      "click                        8.1.3\n",
      "cloudpickle                  2.1.0\n",
      "cycler                       0.11.0\n",
      "dask                         2022.9.0\n",
      "debugpy                      1.6.3\n",
      "decorator                    5.1.1\n",
      "defusedxml                   0.7.1\n",
      "entrypoints                  0.4\n",
      "executing                    0.10.0\n",
      "fastapi                      0.85.0\n",
      "fastjsonschema               2.16.1\n",
      "filelock                     3.8.0\n",
      "flatbuffers                  1.12\n",
      "fonttools                    4.36.0\n",
      "fsspec                       2022.8.2\n",
      "gast                         0.4.0\n",
      "google-auth                  2.11.0\n",
      "google-auth-oauthlib         0.4.6\n",
      "google-pasta                 0.2.0\n",
      "graphviz                     0.20.1\n",
      "grpcio                       1.47.0\n",
      "gunicorn                     20.1.0\n",
      "h11                          0.13.0\n",
      "h5py                         3.7.0\n",
      "httptools                    0.5.0\n",
      "huggingface-hub              0.9.1\n",
      "idna                         3.3\n",
      "ipycytoscape                 1.3.3\n",
      "ipykernel                    6.15.1\n",
      "ipython                      8.4.0\n",
      "ipython-genutils             0.2.0\n",
      "ipywidgets                   8.0.2\n",
      "jedi                         0.18.1\n",
      "Jinja2                       3.1.2\n",
      "joblib                       1.1.0\n",
      "json5                        0.9.10\n",
      "jsonschema                   4.14.0\n",
      "jupyter-client               7.3.4\n",
      "jupyter-core                 4.11.1\n",
      "jupyter-server               1.18.1\n",
      "jupyterlab                   3.4.5\n",
      "jupyterlab-pygments          0.2.2\n",
      "jupyterlab-server            2.15.0\n",
      "jupyterlab-widgets           3.0.3\n",
      "keras                        2.9.0\n",
      "Keras-Preprocessing          1.1.2\n",
      "kiwisolver                   1.4.4\n",
      "libclang                     14.0.6\n",
      "locket                       1.0.0\n",
      "lxml                         4.9.1\n",
      "Markdown                     3.4.1\n",
      "MarkupSafe                   2.1.1\n",
      "matplotlib                   3.5.3\n",
      "matplotlib-inline            0.1.6\n",
      "mistune                      2.0.4\n",
      "nbclassic                    0.4.3\n",
      "nbclient                     0.6.6\n",
      "nbconvert                    7.0.0\n",
      "nbformat                     5.4.0\n",
      "nest-asyncio                 1.5.5\n",
      "notebook                     6.4.12\n",
      "notebook-shim                0.1.0\n",
      "numpy                        1.23.2\n",
      "oauthlib                     3.2.0\n",
      "opt-einsum                   3.3.0\n",
      "packaging                    21.3\n",
      "pandas                       1.4.3\n",
      "pandocfilters                1.5.0\n",
      "parso                        0.8.3\n",
      "partd                        1.3.0\n",
      "pexpect                      4.8.0\n",
      "pickleshare                  0.7.5\n",
      "Pillow                       9.2.0\n",
      "pip                          22.2.2\n",
      "prometheus-client            0.14.1\n",
      "prompt-toolkit               3.0.30\n",
      "protobuf                     3.19.4\n",
      "psutil                       5.9.1\n",
      "ptyprocess                   0.7.0\n",
      "pure-eval                    0.2.2\n",
      "py4j                         0.10.9.5\n",
      "pyasn1                       0.4.8\n",
      "pyasn1-modules               0.2.8\n",
      "pycparser                    2.21\n",
      "pydantic                     1.10.2\n",
      "Pygments                     2.13.0\n",
      "pyparsing                    3.0.9\n",
      "pyrsistent                   0.18.1\n",
      "pyspark                      3.3.0\n",
      "python-dateutil              2.8.2\n",
      "python-dotenv                0.21.0\n",
      "pytz                         2022.2.1\n",
      "PyYAML                       6.0\n",
      "pyzmq                        23.2.1\n",
      "regex                        2022.9.13\n",
      "requests                     2.28.1\n",
      "requests-oauthlib            1.3.1\n",
      "rsa                          4.9\n",
      "scikit-learn                 1.1.2\n",
      "scipy                        1.9.0\n",
      "seaborn                      0.11.2\n",
      "Send2Trash                   1.8.0\n",
      "setuptools                   58.1.0\n",
      "six                          1.16.0\n",
      "sniffio                      1.2.0\n",
      "soupsieve                    2.3.2.post1\n",
      "spectate                     1.0.1\n",
      "stack-data                   0.4.0\n",
      "starlette                    0.20.4\n",
      "tensorboard                  2.9.1\n",
      "tensorboard-data-server      0.6.1\n",
      "tensorboard-plugin-wit       1.8.1\n",
      "tensorflow                   2.9.1\n",
      "tensorflow-estimator         2.9.0\n",
      "tensorflow-io-gcs-filesystem 0.26.0\n",
      "termcolor                    1.1.0\n",
      "terminado                    0.15.0\n",
      "threadpoolctl                3.1.0\n",
      "tinycss2                     1.1.1\n",
      "tokenizers                   0.12.1\n",
      "toolz                        0.12.0\n",
      "torch                        1.12.1\n",
      "tornado                      6.2\n",
      "tqdm                         4.64.1\n",
      "traitlets                    5.3.0\n",
      "transformers                 4.22.1\n",
      "typing_extensions            4.3.0\n",
      "urllib3                      1.26.12\n",
      "uvicorn                      0.18.3\n",
      "uvloop                       0.17.0\n",
      "watchfiles                   0.17.0\n",
      "wcwidth                      0.2.5\n",
      "webencodings                 0.5.1\n",
      "websocket-client             1.3.3\n",
      "websockets                   10.3\n",
      "Werkzeug                     2.2.2\n",
      "wheel                        0.37.1\n",
      "widgetsnbextension           4.0.3\n",
      "wrapt                        1.14.1\n"
     ]
    }
   ],
   "source": [
    "!pip list"
   ]
  },
  {
   "cell_type": "code",
   "execution_count": 10,
   "metadata": {},
   "outputs": [],
   "source": [
    "#fastapi==0.78.0\n",
    "#gunicorn==20.1.0\n",
    "#transformers==4.20.1\n",
    "#uicorn==0.18.2\n"
   ]
  },
  {
   "cell_type": "code",
   "execution_count": 19,
   "metadata": {},
   "outputs": [
    {
     "name": "stdout",
     "output_type": "stream",
     "text": [
      "huggingface/tokenizers: The current process just got forked, after parallelism has already been used. Disabling parallelism to avoid deadlocks...\n",
      "To disable this warning, you can either:\n",
      "\t- Avoid using `tokenizers` before the fork if possible\n",
      "\t- Explicitly set the environment variable TOKENIZERS_PARALLELISM=(true | false)\n",
      "\u001b[31mERROR: Could not find a version that satisfies the requirement HTTPException (from versions: none)\u001b[0m\u001b[31m\n",
      "\u001b[0m\u001b[31mERROR: No matching distribution found for HTTPException\u001b[0m\u001b[31m\n",
      "\u001b[0mNote: you may need to restart the kernel to use updated packages.\n"
     ]
    }
   ],
   "source": [
    "pip install HTTPException"
   ]
  },
  {
   "cell_type": "code",
   "execution_count": 7,
   "metadata": {},
   "outputs": [
    {
     "name": "stderr",
     "output_type": "stream",
     "text": [
      "The cache for model files in Transformers v4.22.0 has been updated. Migrating your old cache. This is a one-time only operation. You can interrupt this and resume the migration later on by calling `transformers.utils.move_cache()`.\n"
     ]
    },
    {
     "name": "stdout",
     "output_type": "stream",
     "text": [
      "Moving 0 files to the new cache system\n"
     ]
    },
    {
     "data": {
      "application/vnd.jupyter.widget-view+json": {
       "model_id": "6d79ddbcfd7f48f0b2049bf3d83cce1b",
       "version_major": 2,
       "version_minor": 0
      },
      "text/plain": [
       "0it [00:00, ?it/s]"
      ]
     },
     "metadata": {},
     "output_type": "display_data"
    },
    {
     "name": "stderr",
     "output_type": "stream",
     "text": [
      "2022-09-18 15:17:50.075635: W tensorflow/stream_executor/platform/default/dso_loader.cc:64] Could not load dynamic library 'libcudart.so.11.0'; dlerror: libcudart.so.11.0: cannot open shared object file: No such file or directory\n",
      "2022-09-18 15:17:50.075678: I tensorflow/stream_executor/cuda/cudart_stub.cc:29] Ignore above cudart dlerror if you do not have a GPU set up on your machine.\n"
     ]
    },
    {
     "data": {
      "application/vnd.jupyter.widget-view+json": {
       "model_id": "6df0f4422b58413d8a7c183fa0e824a5",
       "version_major": 2,
       "version_minor": 0
      },
      "text/plain": [
       "Downloading:   0%|          | 0.00/571 [00:00<?, ?B/s]"
      ]
     },
     "metadata": {},
     "output_type": "display_data"
    },
    {
     "data": {
      "application/vnd.jupyter.widget-view+json": {
       "model_id": "f6aabd036d0848ad9cb0db139b82ab2c",
       "version_major": 2,
       "version_minor": 0
      },
      "text/plain": [
       "Downloading:   0%|          | 0.00/496M [00:00<?, ?B/s]"
      ]
     },
     "metadata": {},
     "output_type": "display_data"
    },
    {
     "data": {
      "application/vnd.jupyter.widget-view+json": {
       "model_id": "05eb7c9716774716a7c0eddf15b64530",
       "version_major": 2,
       "version_minor": 0
      },
      "text/plain": [
       "Downloading:   0%|          | 0.00/79.0 [00:00<?, ?B/s]"
      ]
     },
     "metadata": {},
     "output_type": "display_data"
    },
    {
     "data": {
      "application/vnd.jupyter.widget-view+json": {
       "model_id": "2264f27ff8ff4e4e90b55282622c1523",
       "version_major": 2,
       "version_minor": 0
      },
      "text/plain": [
       "Downloading:   0%|          | 0.00/899k [00:00<?, ?B/s]"
      ]
     },
     "metadata": {},
     "output_type": "display_data"
    },
    {
     "data": {
      "application/vnd.jupyter.widget-view+json": {
       "model_id": "0020a46af28e420688e95fad449f1c60",
       "version_major": 2,
       "version_minor": 0
      },
      "text/plain": [
       "Downloading:   0%|          | 0.00/456k [00:00<?, ?B/s]"
      ]
     },
     "metadata": {},
     "output_type": "display_data"
    },
    {
     "data": {
      "application/vnd.jupyter.widget-view+json": {
       "model_id": "63b15eb062cd4c398a337903d0e731a3",
       "version_major": 2,
       "version_minor": 0
      },
      "text/plain": [
       "Downloading:   0%|          | 0.00/772 [00:00<?, ?B/s]"
      ]
     },
     "metadata": {},
     "output_type": "display_data"
    },
    {
     "name": "stdout",
     "output_type": "stream",
     "text": [
      "{'score': 0.2117140144109726, 'start': 59, 'end': 84, 'answer': 'gives freedom to the user'}\n"
     ]
    }
   ],
   "source": [
    "from transformers import AutoModelForQuestionAnswering, AutoTokenizer, pipeline\n",
    "\n",
    "model_name = \"deepset/roberta-base-squad2\"\n",
    "\n",
    "context=\"The option to convert models between FARM and transformers gives freedom to the user and let people easily switch between frameworks.\"\n",
    "question='Why is model conversion important?'\n",
    "nlp = pipeline('question-answering', model=model_name, tokenizer=model_name)\n",
    "def nlp_qna(context,question):\n",
    "    QA_input = {\n",
    "        'question': question,\n",
    "        'context': context\n",
    "    }\n",
    "    res = nlp(QA_input)\n",
    "    return res\n",
    "\n",
    "res = nlp_qna(context,question)\n",
    "print(res)"
   ]
  }
 ],
 "metadata": {
  "kernelspec": {
   "display_name": "Python 3.10.4 64-bit",
   "language": "python",
   "name": "python3"
  },
  "language_info": {
   "codemirror_mode": {
    "name": "ipython",
    "version": 3
   },
   "file_extension": ".py",
   "mimetype": "text/x-python",
   "name": "python",
   "nbconvert_exporter": "python",
   "pygments_lexer": "ipython3",
   "version": "3.10.4"
  },
  "orig_nbformat": 4,
  "vscode": {
   "interpreter": {
    "hash": "4f946df053fbf2b937619d3c5458e7af74262f9a954d8797ba0b27400bcafe06"
   }
  }
 },
 "nbformat": 4,
 "nbformat_minor": 2
}
