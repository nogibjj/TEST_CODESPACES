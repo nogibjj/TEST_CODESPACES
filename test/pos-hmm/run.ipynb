{
 "cells": [
  {
   "cell_type": "code",
   "execution_count": 1,
   "metadata": {},
   "outputs": [],
   "source": [
    "import nltk\n",
    "import numpy as np\n",
    "import pandas as pd\n",
    "import random\n",
    "from sklearn.model_selection import train_test_split\n",
    "import pprint, time"
   ]
  },
  {
   "cell_type": "code",
   "execution_count": 5,
   "metadata": {},
   "outputs": [],
   "source": [
    "df =nltk.corpus.brown.tagged_sents(tagset='universal')[10150:10153]"
   ]
  },
  {
   "cell_type": "code",
   "execution_count": 8,
   "metadata": {},
   "outputs": [
    {
     "ename": "TypeError",
     "evalue": "list indices must be integers or slices, not tuple",
     "output_type": "error",
     "traceback": [
      "\u001b[0;31m---------------------------------------------------------------------------\u001b[0m",
      "\u001b[0;31mTypeError\u001b[0m                                 Traceback (most recent call last)",
      "\u001b[1;32m/workspaces/TEST_CODESPACES/test/pos-hmm/run.ipynb Cell 3\u001b[0m in \u001b[0;36m<cell line: 1>\u001b[0;34m()\u001b[0m\n\u001b[0;32m----> <a href='vscode-notebook-cell://codespaces%2Bechodpp-nogibjj-test-codespaces-pq6p7x66p55f774q/workspaces/TEST_CODESPACES/test/pos-hmm/run.ipynb#W5sdnNjb2RlLXJlbW90ZQ%3D%3D?line=0'>1</a>\u001b[0m df[:,\u001b[39m0\u001b[39;49m]\n",
      "\u001b[0;31mTypeError\u001b[0m: list indices must be integers or slices, not tuple"
     ]
    }
   ],
   "source": [
    "df[:,0]"
   ]
  },
  {
   "cell_type": "code",
   "execution_count": null,
   "metadata": {},
   "outputs": [],
   "source": [
    "#                     INPUT                    ANSWER                 INFERENCE\n",
    "# ====================================================================================================\n",
    "#                     Those                       DET                       DET     True\n",
    "#                    coming                      VERB                      NOUN     False\n",
    "#                      from                       ADP                       ADP     True\n",
    "#                     other                       ADJ                       ADJ     True\n",
    "#             denominations                      NOUN                      NOUN     True\n",
    "#                      will                      VERB                      VERB     True\n",
    "#                   welcome                      VERB                      VERB     True\n",
    "#                       the                       DET                       DET     True\n",
    "#               opportunity                      NOUN                      NOUN     True\n",
    "#                        to                       PRT                       PRT     True\n",
    "#                    become                      VERB                      VERB     True\n",
    "#                  informed                      VERB                      VERB     True\n",
    "#                         .                         .                         .     True\n",
    "#                       The                       DET                       DET     True\n",
    "#               preparatory                       ADJ                       ADJ     True\n",
    "#                     class                      NOUN                      NOUN     True\n",
    "#                        is                      VERB                      VERB     True\n",
    "#                        an                       DET                       DET     True\n",
    "#              introductory                       ADJ                       ADJ     True\n",
    "#              face-to-face                       ADJ                      NOUN     False\n",
    "#                     group                      NOUN                      NOUN     True\n",
    "#                        in                       ADP                       ADP     True\n",
    "#                     which                       DET                       DET     True\n",
    "#                       new                       ADJ                       ADJ     True\n",
    "#                   members                      NOUN                      NOUN     True\n",
    "#                    become                      VERB                      VERB     True\n",
    "#                acquainted                      VERB                      VERB     True\n",
    "#                      with                       ADP                       ADP     True\n",
    "#                       one                       NUM                       NUM     True\n",
    "#                   another                       DET                      NOUN     False\n",
    "#                         .                         .                         .     True\n",
    "#                        It                      PRON                      PRON     True\n",
    "#                  provides                      VERB                      VERB     True\n",
    "#                         a                       DET                       DET     True\n",
    "#                   natural                       ADJ                       ADJ     True\n",
    "#                transition                      NOUN                      NOUN     True\n",
    "#                      into                       ADP                       ADP     True\n",
    "#                       the                       DET                       DET     True\n",
    "#                      life                      NOUN                      NOUN     True\n",
    "#                        of                       ADP                       ADP     True\n",
    "#                       the                       DET                       DET     True\n",
    "#                     local                       ADJ                       ADJ     True\n",
    "#                    church                      NOUN                      NOUN     True\n",
    "#                       and                      CONJ                      CONJ     True\n",
    "#                       its                       DET                       DET     True\n",
    "#             organizations                      NOUN                      NOUN     True\n",
    "#                         .                         .                         .     True\n",
    "# Overall Accuracy: 93.62%"
   ]
  },
  {
   "cell_type": "code",
   "execution_count": null,
   "metadata": {},
   "outputs": [],
   "source": [
    "def sol_Evaluation(sentence, correct, ours):\n",
    "    \"\"\"\n",
    "    > The function `sol_Evaluation` takes three lists as input, and prints out the three lists side by\n",
    "    side, and returns the number of elements in the third list that match the second list\n",
    "\n",
    "    :param sentence: the sentence that we're evaluating\n",
    "    :param correct: the correct answer\n",
    "    :param ours: the list of our predictions\n",
    "    :return: The number of correct answers.\n",
    "    \"\"\"\n",
    "    count_right = 0\n",
    "    for i in range(len(sentence)):\n",
    "        print(\n",
    "            f\"{sentence[i]:>25}\",\n",
    "            f\"{correct[i]:>25}\",\n",
    "            f\"{ours[i]:>25}\",\n",
    "            \"   \",\n",
    "            correct[i] == ours[i],\n",
    "        )\n",
    "        if correct[i] == ours[i]:\n",
    "            count_right += 1\n",
    "    return count_right"
   ]
  }
 ],
 "metadata": {
  "kernelspec": {
   "display_name": "Python 3.10.4 64-bit",
   "language": "python",
   "name": "python3"
  },
  "language_info": {
   "codemirror_mode": {
    "name": "ipython",
    "version": 3
   },
   "file_extension": ".py",
   "mimetype": "text/x-python",
   "name": "python",
   "nbconvert_exporter": "python",
   "pygments_lexer": "ipython3",
   "version": "3.10.4"
  },
  "orig_nbformat": 4,
  "vscode": {
   "interpreter": {
    "hash": "4f946df053fbf2b937619d3c5458e7af74262f9a954d8797ba0b27400bcafe06"
   }
  }
 },
 "nbformat": 4,
 "nbformat_minor": 2
}
