{
 "cells": [
  {
   "cell_type": "code",
   "execution_count": 3,
   "metadata": {},
   "outputs": [
    {
     "name": "stdout",
     "output_type": "stream",
     "text": [
      "22/09/18 13:22:09 WARN Utils: Your hostname, codespaces-ef6be9 resolves to a loopback address: 127.0.0.1; using 172.16.5.4 instead (on interface eth0)\n",
      "22/09/18 13:22:09 WARN Utils: Set SPARK_LOCAL_IP if you need to bind to another address\n"
     ]
    },
    {
     "name": "stderr",
     "output_type": "stream",
     "text": [
      "Setting default log level to \"WARN\".\n",
      "To adjust logging level use sc.setLogLevel(newLevel). For SparkR, use setLogLevel(newLevel).\n"
     ]
    },
    {
     "name": "stdout",
     "output_type": "stream",
     "text": [
      "22/09/18 13:22:09 WARN NativeCodeLoader: Unable to load native-hadoop library for your platform... using builtin-java classes where applicable\n"
     ]
    }
   ],
   "source": [
    "from pyspark.sql import SparkSession\n",
    "spark = SparkSession.builder.getOrCreate()"
   ]
  },
  {
   "cell_type": "code",
   "execution_count": 6,
   "metadata": {},
   "outputs": [],
   "source": [
    "#To enable the %sql shorthand for running and visualizing SQL queries, use the following snippet:\n",
    "from IPython.core.magic import line_magic, line_cell_magic, Magics, magics_class\n",
    "\n",
    "@magics_class\n",
    "class DatabricksConnectMagics(Magics):\n",
    "\n",
    "   @line_cell_magic\n",
    "   def sql(self, line, cell=None):\n",
    "       if cell and line:\n",
    "           raise ValueError(\"Line must be empty for cell magic\", line)\n",
    "       try:\n",
    "           from autovizwidget.widget.utils import display_dataframe\n",
    "       except ImportError:\n",
    "           print(\"Please run `pip install autovizwidget` to enable the visualization widget.\")\n",
    "           display_dataframe = lambda x: x\n",
    "       return display_dataframe(self.get_spark().sql(cell or line).toPandas())\n",
    "\n",
    "   def get_spark(self):\n",
    "       user_ns = get_ipython().user_ns\n",
    "       if \"spark\" in user_ns:\n",
    "           return user_ns[\"spark\"]\n",
    "       else:\n",
    "           from pyspark.sql import SparkSession\n",
    "           user_ns[\"spark\"] = SparkSession.builder.getOrCreate()\n",
    "           return user_ns[\"spark\"]\n",
    "\n",
    "ip = get_ipython()\n",
    "ip.register_magics(DatabricksConnectMagics)"
   ]
  }
 ],
 "metadata": {
  "kernelspec": {
   "display_name": "Python 3.10.4 64-bit",
   "language": "python",
   "name": "python3"
  },
  "language_info": {
   "codemirror_mode": {
    "name": "ipython",
    "version": 3
   },
   "file_extension": ".py",
   "mimetype": "text/x-python",
   "name": "python",
   "nbconvert_exporter": "python",
   "pygments_lexer": "ipython3",
   "version": "3.10.4"
  },
  "orig_nbformat": 4,
  "vscode": {
   "interpreter": {
    "hash": "4f946df053fbf2b937619d3c5458e7af74262f9a954d8797ba0b27400bcafe06"
   }
  }
 },
 "nbformat": 4,
 "nbformat_minor": 2
}
