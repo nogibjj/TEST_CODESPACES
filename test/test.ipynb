{
 "cells": [
  {
   "cell_type": "markdown",
   "metadata": {},
   "source": [
    "# BMI Calculator"
   ]
  },
  {
   "cell_type": "code",
   "execution_count": 1,
   "metadata": {},
   "outputs": [],
   "source": [
    "# receives weight and height and calculates BMI\n",
    "weight_kg= float(input(\"Enter weight in kg: \"))\n",
    "height_m= float(input(\"Enter height in m: \"))\n",
    "bmi= weight_kg / height_m**2"
   ]
  },
  {
   "cell_type": "code",
   "execution_count": 10,
   "metadata": {},
   "outputs": [
    {
     "name": "stdout",
     "output_type": "stream",
     "text": [
      "120.0\n",
      "lb\n",
      "You are 264.55 pounds\n"
     ]
    }
   ],
   "source": [
    "weight=float(input('What is your weight?'))\n",
    "unit =input('(lb or kg: ')\n",
    "pound=2.20462\n",
    "converted_weight=weight*pound\n",
    "formatted_weight=round(converted_weight,2)\n",
    "print(weight)\n",
    "print(unit)\n",
    "\n",
    "if unit=='lb':\n",
    "    print(f'You are {formatted_weight} pounds')\n",
    "elif unit.upper()=='k':\n",
    "    print(f'You are {weight} kg')\n",
    "else:\n",
    "    print('Please enter a valid unit')"
   ]
  }
 ],
 "metadata": {
  "kernelspec": {
   "display_name": "Python 3.10.4 64-bit",
   "language": "python",
   "name": "python3"
  },
  "language_info": {
   "codemirror_mode": {
    "name": "ipython",
    "version": 3
   },
   "file_extension": ".py",
   "mimetype": "text/x-python",
   "name": "python",
   "nbconvert_exporter": "python",
   "pygments_lexer": "ipython3",
   "version": "3.10.4"
  },
  "orig_nbformat": 4,
  "vscode": {
   "interpreter": {
    "hash": "4f946df053fbf2b937619d3c5458e7af74262f9a954d8797ba0b27400bcafe06"
   }
  }
 },
 "nbformat": 4,
 "nbformat_minor": 2
}
